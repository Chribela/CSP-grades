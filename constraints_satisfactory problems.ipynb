{
 "cells": [
  {
   "cell_type": "code",
   "execution_count": 4,
   "id": "e4d3e856-2b28-4dfd-a0d4-0a6a95bd2b07",
   "metadata": {},
   "outputs": [
    {
     "name": "stdout",
     "output_type": "stream",
     "text": [
      "{'x': 3, 'y': 10}\n",
      "{'x': 3, 'y': 9}\n",
      "{'x': 3, 'y': 8}\n",
      "{'x': 3, 'y': 7}\n",
      "{'x': 3, 'y': 6}\n",
      "{'x': 3, 'y': 5}\n",
      "{'x': 3, 'y': 4}\n",
      "{'x': 3, 'y': 3}\n",
      "{'x': 3, 'y': 2}\n",
      "{'x': 2, 'y': 10}\n",
      "{'x': 2, 'y': 9}\n",
      "{'x': 2, 'y': 8}\n",
      "{'x': 2, 'y': 7}\n",
      "{'x': 2, 'y': 6}\n",
      "{'x': 2, 'y': 5}\n",
      "{'x': 2, 'y': 4}\n",
      "{'x': 2, 'y': 3}\n",
      "{'x': 1, 'y': 10}\n",
      "{'x': 1, 'y': 9}\n",
      "{'x': 1, 'y': 8}\n",
      "{'x': 1, 'y': 7}\n",
      "{'x': 1, 'y': 6}\n",
      "{'x': 1, 'y': 5}\n",
      "{'x': 1, 'y': 4}\n"
     ]
    }
   ],
   "source": [
    "import constraint\n",
    "problem = constraint.Problem()\n",
    "#this code does constraints about registering in classes\n",
    "problem.addVariable('x', [1,2,3])\n",
    "problem.addVariable('y', range(11))\n",
    "\n",
    "def our_constraint(x,y):\n",
    "    if x+y >= 5:\n",
    "        return True\n",
    "\n",
    "problem.addConstraint(our_constraint, ['x', 'y'])\n",
    "\n",
    "solutions= problem.getSolutions()\n",
    "for solution in solutions: \n",
    "    print(solution)"
   ]
  },
  {
   "cell_type": "code",
   "execution_count": 3,
   "id": "83c8ea58-7e68-4f5b-895a-5da577fe1a9a",
   "metadata": {},
   "outputs": [],
   "source": [
    "import constraint\n",
    "problem= constraint.Problem()\n",
    "problem.addVariables('tf', range(1,10))\n",
    "problem.addVariables('wour', range(10))\n",
    "def sum_constraint(t,w,o,f,u,r):\n",
    "    if 2 *(t*100+w*10+o) == f*1000+ o*1000 + u*10 +r: \n",
    "        return True\n",
    "problem.addConstraint(sum_constraint, 'twofur')\n",
    "problem.addConstraint(constraint.AllDifferentConstraint())\n",
    "\n",
    "solutions= problem.getSolutions()\n",
    "for solution in solutions: \n",
    "    print(solution)"
   ]
  },
  {
   "cell_type": "code",
   "execution_count": 2,
   "id": "a15f31c1-b558-445d-b357-c7fc8da0f1bb",
   "metadata": {},
   "outputs": [],
   "source": [
    "\n",
    "import constraint\n",
    "problem= constraint.Problem()\n",
    "problem.addVariables('tf', range(1,10))\n",
    "problem.addVariables('wour', range(10))\n",
    "def sum_constraint(t,w,o,f,u,r):\n",
    "    if 2 *(t*100+w*10+o) == f*1000+ o*1000 + u*10 +r: \n",
    "        return True\n",
    "problem.addConstraint(sum_constraint, 'twofur')\n",
    "problem.addConstraint(constraint.AllDifferentConstraint())\n",
    "\n",
    "solutions= problem.getSolutions()\n",
    "for solution in solutions: \n",
    "    print(solution)"
   ]
  },
  {
   "cell_type": "code",
   "execution_count": null,
   "id": "b9aaa407-93b7-4ac6-b511-8ea5e9ef7c30",
   "metadata": {},
   "outputs": [],
   "source": []
  }
 ],
 "metadata": {
  "kernelspec": {
   "display_name": "Python 3 (ipykernel)",
   "language": "python",
   "name": "python3"
  },
  "language_info": {
   "codemirror_mode": {
    "name": "ipython",
    "version": 3
   },
   "file_extension": ".py",
   "mimetype": "text/x-python",
   "name": "python",
   "nbconvert_exporter": "python",
   "pygments_lexer": "ipython3",
   "version": "3.11.7"
  }
 },
 "nbformat": 4,
 "nbformat_minor": 5
}
